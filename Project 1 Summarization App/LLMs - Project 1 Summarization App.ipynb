{
 "cells": [
  {
   "cell_type": "markdown",
   "id": "70119602-884e-4b80-bc4f-cb1a266e63fd",
   "metadata": {},
   "source": [
    "# Instant Gratification!\n"
   ]
  },
  {
   "cell_type": "markdown",
   "id": "362d06ef-8e23-41e7-b99e-63c6508f7e1c",
   "metadata": {},
   "source": [
    "In this project, we will use the **OpenAI API** along with the **BeautifulSoup** library to scrape web content and generate summaries based on the websites we provide."
   ]
  },
  {
   "cell_type": "markdown",
   "id": "bc255e0b-3c66-44a6-96b2-028586474b43",
   "metadata": {},
   "source": [
    "This is our first mini-project, designed to build familiarity with cutting-edge large language model (LLM) APIs and prompt engineering techniques."
   ]
  },
  {
   "cell_type": "code",
   "execution_count": 8,
   "id": "4774ba91-69f9-46e4-bdca-a4c0ac440eb2",
   "metadata": {},
   "outputs": [],
   "source": [
    "# imports\n",
    "\n",
    "import os\n",
    "import requests\n",
    "from dotenv import load_dotenv\n",
    "from bs4 import BeautifulSoup\n",
    "from IPython.display import Markdown, display\n",
    "from openai import OpenAI\n",
    "import openai\n"
   ]
  },
  {
   "cell_type": "code",
   "execution_count": 35,
   "id": "20f8130b-791e-4b25-967b-5cb6dc67e9b7",
   "metadata": {},
   "outputs": [],
   "source": [
    "# use openai api\n",
    "api_key = \"enter your own api key\"\n",
    "openai.api_key = api_key\n"
   ]
  },
  {
   "cell_type": "code",
   "execution_count": 13,
   "id": "d43a2b64-a62f-4dcc-b7a5-64a1292c5c62",
   "metadata": {},
   "outputs": [],
   "source": [
    "# define website class, with three attributes \n",
    "class Website:\n",
    "    url: str\n",
    "    title: str\n",
    "    text: str\n",
    "\n",
    "    def __init__(self, url):\n",
    "        self.url = url\n",
    "        # Fetching and Parsing the Webpage Content \n",
    "        response = requests.get(url)\n",
    "        soup = BeautifulSoup(response.content, 'html.parser')\n",
    "        self.title = soup.title.string if soup.title else \"No title found\"\n",
    "        # exclude irrelevant content\n",
    "        for irrelevant in soup.body([\"script\", \"style\", \"img\", \"input\"]):\n",
    "            irrelevant.decompose()\n",
    "        # extract text content\n",
    "        self.text = soup.body.get_text(separator=\"\\n\", strip=True)"
   ]
  },
  {
   "cell_type": "code",
   "execution_count": 17,
   "id": "376a6f68-5545-4d08-82cc-0de651dbde93",
   "metadata": {},
   "outputs": [
    {
     "name": "stdout",
     "output_type": "stream",
     "text": [
      "Our Company - RBC\n",
      "Skip to main content\n",
      "Other Sites\n",
      "Search RBC...\n",
      "Contact Us\n",
      "Find a Branch\n",
      "Call\n",
      "1-800-769-2511\n",
      "EN\n",
      "Sign In\n",
      "SIGN IN\n",
      "MENU\n",
      "Ask your question\n",
      "Our Company\n",
      "Our Impact\n",
      "Investor Relations\n",
      "News & Stories\n",
      "Careers\n",
      "Thought Leadership\n",
      "Search RBC\n",
      "Personal Banking\n",
      "Other Sites\n",
      "Promotions\n",
      "Contact Us\n",
      "Language\n",
      "AdChoices\n",
      "MENU\n",
      "Our Company\n",
      "Helping Clients Thrive and Communities Prosper\n",
      "RBC is a global financial institution with a purpose-driven, principles-led approach to delivering leading performance, and creating value for our clients and communities.\n",
      "What We Value\n",
      "We’re on a purpose-driven journey to build the RBC of the future and reimagine the role we play in the lives of our customers. Our purpose inspires us every day to bring our best and use our imagination and insights to build a better future for our clients and communities.\n",
      "Learn More\n",
      "Our Businesses\n",
      "For more than 150 years, we’ve gone where our clients have gone – expanding across Canada, the United States, and to select global markets. Today, we hold strong market positions in five business segments, with 17 million clients who continue to put their trust in RBC.\n",
      "Learn More\n",
      "Our Leadership\n",
      "Get to know the senior leaders who guide RBC’s strategic direction and culture.\n",
      "Learn More\n",
      "Corporate Governance\n",
      "The strengths of our corporate governance start at the top and are fostered throughout the organization by a proactive governance culture that has consistently adopted industry-leading standards.\n",
      "Learn More\n",
      "Quick Facts\n",
      "Royal Bank of Canada (RY on TSX and NYSE) and its subsidiaries operate under the master brand name RBC.\n",
      "We are one of Canada's biggest banks, and among the largest in the world based on market capitalization.\n",
      "We have 97,000+ full- and part-time employees who serve 17 million clients in Canada, the U.S. and 27 other countries.\n",
      "We are one of North America's leading diversified financial services companies, and provide personal and commercial banking, wealth management, insurance, investor services and capital markets products and services on a global basis.\n",
      "Awards and Recognition\n",
      "RBC named ‘North American Retail Bank of the Year’ for third consecutive year\n",
      "RBC has been recognized with multiple awards by\n",
      "Retail Banker International (RBI)\n",
      "(opens to external site)\n",
      ". The accolades include North American Retail Bank of the Year, Best Loyalty/Rewards Strategy, and Best Latin/Caribbean Bank of the Year.\n",
      "See All Awards\n",
      "Latest News\n",
      "RBC Newsroom\n",
      "Insights\n",
      "RBC Thought Leadership\n",
      "Opens in a new window\n",
      "Footer Links\n",
      "About RBC\n",
      "Our Company\n",
      "Corporate Governance\n",
      "Investor Relations\n",
      "History\n",
      "Contact Us\n",
      "Regulatory Information\n",
      "News\n",
      "Media Newsroom\n",
      "Thought Leadership\n",
      "Awards\n",
      "Publications\n",
      "Corporate Citizenship\n",
      "Our Impact\n",
      "ESG Reporting\n",
      "Voluntary Codes and Public Commitments\n",
      "Statement Regarding Modern Slavery\n",
      "Work at RBC\n",
      "Careers at RBC\n",
      "Diversity & Inclusion at RBC\n",
      "Become a Supplier\n",
      "Royal Bank of Canada Website,\n",
      "© 1995-\n",
      "Legal\n",
      "|\n",
      "Accessibility\n",
      "|\n",
      "Privacy & Security\n",
      "|\n",
      "Advertising & Cookies\n",
      "Back to\n",
      "Top\n"
     ]
    }
   ],
   "source": [
    "# Let's try one out\n",
    "\n",
    "ed = Website(\"https://www.rbc.com/our-company/\")\n",
    "print(ed.title)\n",
    "print(ed.text)"
   ]
  },
  {
   "cell_type": "markdown",
   "id": "e631c9a0-5f41-4936-98d0-41ce5309e4ba",
   "metadata": {},
   "source": [
    "# Types of prompts\n"
   ]
  },
  {
   "cell_type": "markdown",
   "id": "113b3db8-3523-4da3-9677-ac2cccddef3e",
   "metadata": {},
   "source": [
    "A system prompt that tells them what task they are performing and what tone they should use\n",
    "\n",
    "A user prompt -- the conversation starter that they should reply to"
   ]
  },
  {
   "cell_type": "code",
   "execution_count": 22,
   "id": "d89728d4-c252-4095-9701-bf788172d208",
   "metadata": {},
   "outputs": [],
   "source": [
    "system_prompt = \"You are an assistant that analyzes the contents of a website \\\n",
    "and provides a short summary, ignoring text that might be navigation related. \\\n",
    "Respond in markdown.\""
   ]
  },
  {
   "cell_type": "code",
   "execution_count": 24,
   "id": "7e71004c-75f6-41d4-9471-b18ec6c6eb70",
   "metadata": {},
   "outputs": [],
   "source": [
    "def user_prompt_for(website):\n",
    "    user_prompt = f\"You are looking at a website titled {website.title}\"\n",
    "    user_prompt += \"The contents of this website is as follows; \\\n",
    "    please provide a short summary of this website in markdown. \\\n",
    "    If it includes news or announcements, then summarize these too.\\n\\n\"\n",
    "    user_prompt += website.text\n",
    "    return user_prompt"
   ]
  },
  {
   "cell_type": "markdown",
   "id": "dcf49198-646a-4363-9e3d-a9859e4e499c",
   "metadata": {},
   "source": [
    "## Messages\n",
    "\n",
    "The API from OpenAI expects to receive messages in a particular structure.\n",
    "Many of the other APIs share this structure:\n",
    "\n",
    "```\n",
    "[\n",
    "    {\"role\": \"system\", \"content\": \"system message goes here\"},\n",
    "    {\"role\": \"user\", \"content\": \"user message goes here\"}\n",
    "]"
   ]
  },
  {
   "cell_type": "code",
   "execution_count": 29,
   "id": "2503cb59-7c05-4d8e-b2c0-f2e792df7175",
   "metadata": {},
   "outputs": [],
   "source": [
    "# pass in the prompts we just wrote\n",
    "def messages_for(website):\n",
    "    return [\n",
    "        {\"role\": \"system\", \"content\": system_prompt},\n",
    "        {\"role\": \"user\", \"content\": user_prompt_for(website)}\n",
    "    ]"
   ]
  },
  {
   "cell_type": "markdown",
   "id": "0a7c6782-603a-483b-a10b-a11d1e64aec1",
   "metadata": {},
   "source": [
    "Time to bring it together - the API for OpenAI is very simple!\n"
   ]
  },
  {
   "cell_type": "code",
   "execution_count": 31,
   "id": "20dc8340-ed07-4a59-86ae-f680af6b7f6c",
   "metadata": {},
   "outputs": [],
   "source": [
    "def summarize(url):\n",
    "    # use Website class, return website body text\n",
    "    website = Website(url)\n",
    "    # openai api\n",
    "    response = openai.chat.completions.create(\n",
    "        model = \"gpt-4o-mini\",\n",
    "        messages = messages_for(website)\n",
    "    )\n",
    "    return response.choices[0].message.content"
   ]
  },
  {
   "cell_type": "code",
   "execution_count": 37,
   "id": "ba85b2d8-3758-4e75-967f-9e6b120760ac",
   "metadata": {},
   "outputs": [
    {
     "data": {
      "text/plain": [
       "\"# Summary of Our Company - RBC\\n\\nThe RBC (Royal Bank of Canada) website presents the bank as a global financial institution that prioritizes purpose-driven and principles-led approaches to business. With over 150 years of experience, RBC serves 17 million clients across Canada, the U.S., and other international markets through various segments including personal banking, wealth management, and capital markets.\\n\\n## Key Highlights\\n\\n- **Mission**: RBC is committed to helping clients thrive and communities prosper, focusing on building a sustainable future.\\n- **Values**: The organization emphasizes a purpose-driven journey to reimagine its role in the lives of customers.\\n- **Corporate Governance**: RBC maintains a high standard of corporate governance, fostering a proactive culture throughout the organization.\\n- **Workforce**: The bank employs over 97,000 individuals across different countries.\\n- **Awards**: RBC has received several accolades, including being named the 'North American Retail Bank of the Year' for three consecutive years, as well as awards for its loyalty strategy and regional excellence in the banking sector.\\n\\nOverall, RBC positions itself as a leader in financial services while actively investing in community prosperity and recognizing the importance of corporate citizenship.\\n\\n## Latest News\\n\\n### Awards Recognition\\nRBC has been continually recognized for its achievements in banking, highlighting its excellence in customer service and loyalty strategies as recognized by Retail Banker International.\""
      ]
     },
     "execution_count": 37,
     "metadata": {},
     "output_type": "execute_result"
    }
   ],
   "source": [
    "summarize(\"https://www.rbc.com/our-company/\")\n"
   ]
  },
  {
   "cell_type": "code",
   "execution_count": 39,
   "id": "4d541649-b8be-4eb6-88f5-fabd5cb52407",
   "metadata": {},
   "outputs": [],
   "source": [
    "# uses IPython.display.Markdown to format and display the summary in Markdown\n",
    "def display_summary(url):\n",
    "    summary = summarize(url)\n",
    "    display(Markdown(summary))"
   ]
  },
  {
   "cell_type": "code",
   "execution_count": 41,
   "id": "879b542b-4e70-4149-bbb8-0c7673e385c9",
   "metadata": {},
   "outputs": [
    {
     "data": {
      "text/markdown": [
       "# Summary of Our Company - RBC\n",
       "\n",
       "The \"Our Company\" section of the RBC website outlines the institution's commitment to helping clients thrive and communities prosper through a purpose-driven approach. RBC is a significant global financial institution, with a history spanning over 150 years and a strong presence in Canada, the United States, and various international markets. \n",
       "\n",
       "## Key Highlights\n",
       "\n",
       "- **Purpose and Values:** RBC's mission focuses on building a better future for clients and communities through innovation and insights.\n",
       "- **Business Segments:** The company operates five key business segments and serves approximately 17 million clients across different countries.\n",
       "- **Leadership:** Information about RBC's senior leadership is available, highlighting the strategic direction of the organization.\n",
       "- **Corporate Governance:** RBC emphasizes a strong governance culture with industry-leading standards.\n",
       "- **Quick Facts:** \n",
       "  - Operates under the master brand name RBC.\n",
       "  - One of the largest banks globally by market capitalization.\n",
       "  - Employs over 97,000 staff.\n",
       "- **Awards and Recognition:** RBC has received numerous accolades, including being named 'North American Retail Bank of the Year' for the third consecutive year, among others.\n",
       "\n",
       "## Latest News\n",
       "RBC's newsroom includes insights and thought leadership; however, specific recent news updates are not detailed in this section.\n",
       "\n",
       "Overall, the content reflects RBC's dedication to performance, trust, and value creation, along with their commitment to clients and the broader community."
      ],
      "text/plain": [
       "<IPython.core.display.Markdown object>"
      ]
     },
     "metadata": {},
     "output_type": "display_data"
    }
   ],
   "source": [
    "display_summary(\"https://www.rbc.com/our-company/\")\n"
   ]
  },
  {
   "cell_type": "markdown",
   "id": "b82201b4-ad9c-484b-8335-a4d1c55c2876",
   "metadata": {},
   "source": [
    "# Let's try more websites\n"
   ]
  },
  {
   "cell_type": "code",
   "execution_count": 45,
   "id": "0d0a3f51-41c0-4540-8e8c-5b0607e58a85",
   "metadata": {},
   "outputs": [
    {
     "data": {
      "text/markdown": [
       "# BNN Bloomberg – Canada Business News Overview\n",
       "\n",
       "BNN Bloomberg provides comprehensive coverage of Canadian business news, financial markets, and economic updates. The site features a variety of sections dedicated to investing, market performance, company news, economics, real estate, and personal finance.\n",
       "\n",
       "## Key Highlights:\n",
       "\n",
       "- **Interest Rates & Economic Insights**: Veteran economist David Rosenberg advocates for the Bank of Canada to implement continuous cuts of 50 basis points to address the balance of demand and supply in the economy. \n",
       "\n",
       "- **Government Finance**: The federal government has reported a substantial deficit of $9.8 billion for the period from April to August 2024.\n",
       "\n",
       "- **Corporate Updates**:\n",
       "  - **Corus Entertainment**: The company has signed an amended debt agreement with banks and reported a loss of $26 million in Q4.\n",
       "  - **Brookfield Unit**: Plans to divest $1.5 billion in private credit assets are underway.\n",
       "  \n",
       "- **Market Reactions**: Commentary on the impact of the Bank of Canada's recent rate cuts, with a focus on implications for small businesses and the real estate sector.\n",
       "\n",
       "- **Videos & Analysis**: The platform includes a range of videos discussing topics such as small business needs, economic impact of labor dynamics, and investment strategies amidst market fluctuations.\n",
       "\n",
       "For more in-depth insights, consider the top picks and expert analyses featured on the platform regularly."
      ],
      "text/plain": [
       "<IPython.core.display.Markdown object>"
      ]
     },
     "metadata": {},
     "output_type": "display_data"
    }
   ],
   "source": [
    "display_summary(\"https://www.bnnbloomberg.ca/\")\n"
   ]
  },
  {
   "cell_type": "code",
   "execution_count": null,
   "id": "be6a64b0-b903-4b00-b010-d3e2aba4009d",
   "metadata": {},
   "outputs": [],
   "source": []
  }
 ],
 "metadata": {
  "kernelspec": {
   "display_name": "Python 3 (ipykernel)",
   "language": "python",
   "name": "python3"
  },
  "language_info": {
   "codemirror_mode": {
    "name": "ipython",
    "version": 3
   },
   "file_extension": ".py",
   "mimetype": "text/x-python",
   "name": "python",
   "nbconvert_exporter": "python",
   "pygments_lexer": "ipython3",
   "version": "3.12.4"
  }
 },
 "nbformat": 4,
 "nbformat_minor": 5
}
